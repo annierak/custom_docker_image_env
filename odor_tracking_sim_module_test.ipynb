{
 "cells": [
  {
   "cell_type": "code",
   "execution_count": 4,
   "metadata": {},
   "outputs": [],
   "source": [
    "import numpy\n",
    "import odor_tracking_sim.trap_models as trap_models\n",
    "import odor_tracking_sim.utility as utility\n",
    "import matplotlib.pyplot as plt"
   ]
  },
  {
   "cell_type": "code",
   "execution_count": 5,
   "metadata": {},
   "outputs": [],
   "source": [
    "number_sources = 8\n",
    "radius_sources = 1000.0\n",
    "trap_radius = 0.5\n",
    "location_list, strength_list = utility.create_circle_of_sources(number_sources,\n",
    "                radius_sources,None)\n",
    "trap_param = {\n",
    "        'source_locations' : location_list,\n",
    "        'source_strengths' : strength_list,\n",
    "        'epsilon'          : 0.01,\n",
    "        'trap_radius'      : trap_radius,\n",
    "        'source_radius'    : radius_sources\n",
    "}\n",
    "\n",
    "traps = trap_models.TrapModel(trap_param)\n"
   ]
  },
  {
   "cell_type": "code",
   "execution_count": 7,
   "metadata": {},
   "outputs": [
    {
     "data": {
      "image/png": "[encoded data removed]",
      "text/plain": [
       "<Figure size 432x288 with 1 Axes>"
      ]
     },
     "metadata": {
      "needs_background": "light"
     },
     "output_type": "display_data"
    }
   ],
   "source": [
    "xlim = (-1500., 1500.)\n",
    "ylim = (-1500., 1500.)\n",
    "im_extents = xlim[0], xlim[1], ylim[0], ylim[1]\n",
    "\n",
    "fig1, ax = plt.subplots()\n",
    "ax.set_ylim(list(ylim))\n",
    "ax.set_xlim(list(xlim))\n",
    "ax.set_aspect('equal')\n",
    "for x,y in location_list:\n",
    "\n",
    "    #Black x\n",
    "    plt.scatter(x,y,marker='x',s=50,c='k')\n"
   ]
  },
  {
   "cell_type": "code",
   "execution_count": null,
   "metadata": {},
   "outputs": [],
   "source": []
  }
 ],
 "metadata": {
  "kernelspec": {
   "display_name": "custom_docker_image_env",
   "language": "python",
   "name": "custom_docker_image_env"
  }
 },
 "nbformat": 4,
 "nbformat_minor": 2
}
